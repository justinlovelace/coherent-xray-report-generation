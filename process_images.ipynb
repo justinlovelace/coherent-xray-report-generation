{
 "cells": [
  {
   "cell_type": "code",
   "execution_count": null,
   "metadata": {},
   "outputs": [],
   "source": [
    "import numpy as np\n",
    "import pydicom\n",
    "import pandas as pd\n",
    "import os\n",
    "import sys\n",
    "import matplotlib.pyplot as pl\n",
    "from report_parser import parse_report\n",
    "from PIL import Image\n",
    "from tqdm.notebook import tqdm\n",
    "from collections import defaultdict\n",
    "import pickle\n",
    "import gzip\n",
    "import random\n",
    "import spacy\n",
    "import gensim, logging\n",
    "from pathlib import Path\n",
    "from sklearn.model_selection import train_test_split\n",
    "import torch\n",
    "import torchvision\n",
    "from google.cloud import storage\n",
    "from collections import Counter\n",
    "from pathlib import Path\n",
    "from IPython.display import display \n",
    "\n",
    "from report_parser import parse_report\n",
    "\n",
    "PAD_CHAR = '**PAD**'\n",
    "UNK_CHAR = '**UNK**'\n",
    "\n",
    "dataset_file_path = ''\n",
    "local_file_path = ''"
   ]
  },
  {
   "cell_type": "code",
   "execution_count": null,
   "metadata": {},
   "outputs": [],
   "source": [
    "df_records = pd.read_csv(os.path.join(dataset_file_path,'cxr-record-list.csv.gz'))\n",
    "df_records.rename(columns={'path': 'dicom_path'}, inplace=True)\n",
    "print(df_records)"
   ]
  },
  {
   "cell_type": "code",
   "execution_count": null,
   "metadata": {
    "scrolled": true
   },
   "outputs": [],
   "source": [
    "# Load a few images to spot check\n",
    "n = 3\n",
    "resize = torchvision.transforms.Resize(256)\n",
    "crop = torchvision.transforms.CenterCrop(256)\n",
    "for index, row in tqdm(df_records.iterrows(), total=df_records.shape[0]):\n",
    "    dicom_file = row['dicom_path']\n",
    "    dicom_path = os.path.join(dataset_file_path, dicom_file)\n",
    "    plan = pydicom.dcmread(dicom_path, stop_before_pixels=False)\n",
    "#     print(plan)\n",
    "#     sys.exit()\n",
    "    view_position = plan.ViewPosition\n",
    "    print('The image has {} x {} voxels'.format(plan.pixel_array.shape[0],\n",
    "                                            plan.pixel_array.shape[1]))\n",
    "    image = Image.fromarray(np.uint8(plan.pixel_array/plan.pixel_array.max()*255))\n",
    "    resized_image = crop(resize(image))\n",
    "#     print(image)\n",
    "#     sys.exit()\n",
    "\n",
    "    if image != None:\n",
    "        print('\\t-----------')\n",
    "        print('\\tPatient ID:', plan.PatientID)\n",
    "        print('\\tView Position:', view_position)\n",
    "        pl.figure(figsize=(18,9))\n",
    "#         pl.imshow(image, cmap=pl.cm.bone)\n",
    "        pl.imshow(image, cmap='gray')\n",
    "        pl.show()\n",
    "        pl.imshow(resized_image, cmap='gray')\n",
    "        pl.show()\n",
    "        \n",
    "    if index > n:\n",
    "        break\n"
   ]
  },
  {
   "cell_type": "code",
   "execution_count": null,
   "metadata": {
    "scrolled": true
   },
   "outputs": [],
   "source": [
    "print('Loading train dataframe...')\n",
    "datasetPath = os.path.join(local_file_path, 'df_master_train.csv')\n",
    "df_master_train = pd.read_csv(os.path.join(datasetPath))\n",
    "\n",
    "print('Loading val dataframe...')\n",
    "datasetPath = os.path.join(local_file_path, 'df_master_val.csv')\n",
    "df_master_val = pd.read_csv(os.path.join(datasetPath))\n",
    "\n",
    "print('Loading test dataframe...')\n",
    "datasetPath = os.path.join(local_file_path, 'df_master_test.csv')\n",
    "df_master_test = pd.read_csv(os.path.join(datasetPath))\n",
    "\n",
    "print('Finished loading dataframes')\n",
    "print(df_master_train.columns)\n",
    "print(df_master_train.head(1))"
   ]
  },
  {
   "cell_type": "code",
   "execution_count": null,
   "metadata": {},
   "outputs": [],
   "source": [
    "densenet_121 = torch.hub.load('pytorch/vision:v0.5.0', 'densenet121', pretrained=True)\n",
    "print(densenet_121)\n",
    "\n",
    "model = torch.nn.Sequential(*list(densenet_121.features.children())[:-1])\n",
    "model.eval()\n",
    "for param in model.parameters():\n",
    "    param.requires_grad = False\n",
    "print('#################################')\n",
    "print(model)"
   ]
  },
  {
   "cell_type": "code",
   "execution_count": null,
   "metadata": {},
   "outputs": [],
   "source": [
    "os.environ[\"CUDA_VISIBLE_DEVICES\"]=\"5\""
   ]
  },
  {
   "cell_type": "code",
   "execution_count": null,
   "metadata": {},
   "outputs": [],
   "source": [
    "image_pipeline = torchvision.transforms.Compose([\n",
    "    torchvision.transforms.Resize(256),\n",
    "    torchvision.transforms.CenterCrop(256),\n",
    "    torchvision.transforms.ToTensor(),\n",
    "    torchvision.transforms.Normalize(mean=[0.485, 0.456, 0.406], std=[0.229, 0.224, 0.225])\n",
    "])\n",
    "\n",
    "\n",
    "print('EXTRACTING VIEWS AND IMAGE FEATURES FOR VALIDATION IMAGES')\n",
    "df_master_val['processed_dicom_path'] = df_master_val.apply(lambda row: row.dicom_path[:-3] + 'np', axis=1)\n",
    "views = []\n",
    "images = []\n",
    "paths = []\n",
    "for index, row in tqdm(df_master_val.iterrows(), total=df_master_val.shape[0]):\n",
    "    dicom_file = row['dicom_path']\n",
    "    dicom_id = row['dicom_id']\n",
    "    dicom_path = os.path.join(dataset_file_path, dicom_file)\n",
    "    save_path = os.path.join(local_file_path, row['processed_dicom_path'])\n",
    "    Path(os.path.dirname(save_path)).mkdir(parents=True, exist_ok=True)\n",
    "    plan = pydicom.dcmread(dicom_path, stop_before_pixels=False)\n",
    "    views.append(plan.ViewPosition)\n",
    "    image = Image.fromarray(np.uint8(plan.pixel_array/plan.pixel_array.max()*255)).convert(\"RGB\")\n",
    "    paths.append(save_path)\n",
    "    image = image_pipeline(image)\n",
    "    \n",
    "    if torch.cuda.is_available():\n",
    "        image = image.to('cuda')\n",
    "        model.to('cuda')\n",
    "    else:\n",
    "        print('ERROR GPU UNAVAILABLE')\n",
    "        break\n",
    "    images.append(image)\n",
    "    if len(images)==64:\n",
    "        batch = torch.stack(images, dim=0)\n",
    "        output = model(batch)\n",
    "\n",
    "        for i in range(len(paths)):\n",
    "            torch.save(output[i].to(device=torch.device(\"cpu\")), paths[i])\n",
    "        images = []\n",
    "        paths = []\n"
   ]
  },
  {
   "cell_type": "code",
   "execution_count": null,
   "metadata": {},
   "outputs": [],
   "source": [
    "print(Counter(views))"
   ]
  },
  {
   "cell_type": "code",
   "execution_count": null,
   "metadata": {},
   "outputs": [],
   "source": [
    "df_master_val['dicom_view'] = views\n",
    "\n",
    "print('Saving val dataframe...')\n",
    "datasetPath = os.path.join(local_file_path, 'df_master_val.csv')\n",
    "df_master_val.to_csv(datasetPath, index=False)\n",
    "print('Dataframe saved')"
   ]
  },
  {
   "cell_type": "code",
   "execution_count": null,
   "metadata": {},
   "outputs": [],
   "source": [
    "print('EXTRACTING VIEWS AND IMAGE FEATURES FOR TESTING IMAGES')\n",
    "df_master_test['processed_dicom_path'] = df_master_test.apply(lambda row: row.dicom_path[:-3] + 'np', axis=1)\n",
    "views = []\n",
    "images = []\n",
    "paths = []\n",
    "for index, row in tqdm(df_master_test.iterrows(), total=df_master_test.shape[0]):\n",
    "    dicom_file = row['dicom_path']\n",
    "    dicom_id = row['dicom_id']\n",
    "    dicom_path = os.path.join(dataset_file_path, dicom_file)\n",
    "    save_path = os.path.join(local_file_path, row['processed_dicom_path'])\n",
    "    Path(os.path.dirname(save_path)).mkdir(parents=True, exist_ok=True)\n",
    "    plan = pydicom.dcmread(dicom_path, stop_before_pixels=False)\n",
    "    views.append(plan.ViewPosition)\n",
    "    image = Image.fromarray(np.uint8(plan.pixel_array/plan.pixel_array.max()*255)).convert(\"RGB\")\n",
    "    paths.append(save_path)\n",
    "    image = image_pipeline(image)\n",
    "    \n",
    "    if torch.cuda.is_available():\n",
    "        image = image.to('cuda')\n",
    "        model.to('cuda')\n",
    "    else:\n",
    "        print('ERROR GPU UNAVAILABLE')\n",
    "        break\n",
    "    images.append(image)\n",
    "    if len(images)==64:\n",
    "        batch = torch.stack(images, dim=0)\n",
    "        output = model(batch)\n",
    "        for i in range(len(paths)):\n",
    "            torch.save(output[i].to(device=torch.device(\"cpu\")), paths[i])\n",
    "        images = []\n",
    "        paths = []"
   ]
  },
  {
   "cell_type": "code",
   "execution_count": null,
   "metadata": {},
   "outputs": [],
   "source": [
    "print(Counter(views))"
   ]
  },
  {
   "cell_type": "code",
   "execution_count": null,
   "metadata": {},
   "outputs": [],
   "source": [
    "df_master_test['dicom_view'] = views\n",
    "\n",
    "print('Saving test dataframe...')\n",
    "datasetPath = os.path.join(local_file_path, 'df_master_test.csv')\n",
    "df_master_test.to_csv(datasetPath, index=False)\n",
    "print('Dataframe saved')"
   ]
  },
  {
   "cell_type": "code",
   "execution_count": null,
   "metadata": {},
   "outputs": [],
   "source": [
    "print('EXTRACTING VIEWS AND IMAGE FEATURES FOR TRAINING IMAGES')\n",
    "df_master_train['processed_dicom_path'] = df_master_train.apply(lambda row: row.dicom_path[:-3] + 'np', axis=1)\n",
    "views = []\n",
    "images = []\n",
    "paths = []\n",
    "for index, row in tqdm(df_master_train.iterrows(), total=df_master_train.shape[0]):\n",
    "    dicom_file = row['dicom_path']\n",
    "    dicom_id = row['dicom_id']\n",
    "    dicom_path = os.path.join(dataset_file_path, dicom_file)\n",
    "    save_path = os.path.join(local_file_path, row['processed_dicom_path'])\n",
    "    Path(os.path.dirname(save_path)).mkdir(parents=True, exist_ok=True)\n",
    "    plan = pydicom.dcmread(dicom_path, stop_before_pixels=False)\n",
    "    views.append(plan.ViewPosition)\n",
    "    image = Image.fromarray(np.uint8(plan.pixel_array/plan.pixel_array.max()*255)).convert(\"RGB\")\n",
    "    paths.append(save_path)\n",
    "    image = image_pipeline(image)\n",
    "    \n",
    "    if torch.cuda.is_available():\n",
    "        image = image.to('cuda')\n",
    "        model.to('cuda')\n",
    "    else:\n",
    "        print('ERROR GPU UNAVAILABLE')\n",
    "        break\n",
    "    images.append(image)\n",
    "    if len(images)==64:\n",
    "        batch = torch.stack(images, dim=0)\n",
    "        output = model(batch)\n",
    "        for i in range(len(paths)):\n",
    "            torch.save(output[i].to(device=torch.device(\"cpu\")), paths[i])\n",
    "        images = []\n",
    "        paths = []"
   ]
  },
  {
   "cell_type": "code",
   "execution_count": null,
   "metadata": {},
   "outputs": [],
   "source": [
    "print(Counter(views))"
   ]
  },
  {
   "cell_type": "code",
   "execution_count": null,
   "metadata": {},
   "outputs": [],
   "source": [
    "df_master_train['dicom_view'] = views\n",
    "\n",
    "print('Saving train dataframe...')\n",
    "datasetPath = os.path.join(local_file_path, 'df_master_train.csv')\n",
    "df_master_train.to_csv(datasetPath, index=False)\n",
    "print('Dataframe saved')"
   ]
  },
  {
   "cell_type": "code",
   "execution_count": null,
   "metadata": {},
   "outputs": [],
   "source": []
  }
 ],
 "metadata": {
  "kernelspec": {
   "display_name": "Python 3",
   "language": "python",
   "name": "python3"
  },
  "language_info": {
   "codemirror_mode": {
    "name": "ipython",
    "version": 3
   },
   "file_extension": ".py",
   "mimetype": "text/x-python",
   "name": "python",
   "nbconvert_exporter": "python",
   "pygments_lexer": "ipython3",
   "version": "3.6.10"
  }
 },
 "nbformat": 4,
 "nbformat_minor": 2
}